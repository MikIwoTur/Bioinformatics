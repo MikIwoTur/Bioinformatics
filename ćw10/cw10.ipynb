{
 "cells": [
  {
   "cell_type": "markdown",
   "id": "fab28785-8ac6-4e0d-b3b0-ad288a562b25",
   "metadata": {},
   "source": [
    "<b>Przygotował: Michał Gucwa</b> \n",
    "<!-- There are no Easter Eggs up here, Go away -->\n",
    "\n",
    "<h3>Metody przewidywania i walidacji struktury przestrzennej białek. Rola testów porównawczych CASP i metaserwerów predykcyjnych w stymulowaniu rozwoju bioinformatyki strukturalnej.</h3>\n",
    "\n",
    "<p1>Funkcja biologiczna białka związana jest z jego strukturą przestrzenną, którą można wyznaczyć\n",
    "metodami doświadczalnymi i obliczeniowymi. \n",
    "\n",
    "Najczęściej stosowaną metodą predykcji jest metoda modelowania porównawczego (homologicznego, AlphaFold2, I-TASSER, MODELLER). W modelowaniu porównawczym, model struktury białka konstruowany jest na podstawie informacji zawartych w strukturze białek spokrewnionych ewolucyjnie. Zasadność stosowania metod porównawczych wynika z faktu, że struktura jest bardziej konserwatywna niż sekwencja.\n",
    "\n",
    "Istota metody modelowania porównawczego sprowadza się do wykrycia pokrewieństwa\n",
    "ewolucyjnego między białkami o znanej i nieznanej strukturze przestrzennej (temat przewodni\n",
    "poniższego ćwiczenia) i wykorzystaniu informacji strukturalnej z białka szablonu (ang. template\n",
    "protein) do skonstruowania modelu struktury białka celu (ang. target protein).\n",
    "\n",
    "Używane programy podczas zajęć:<br>\n",
    "-PyMOL<br>\n",
    "-AlphaFold2<br>\n",
    "-Modeller<br>\n",
    "-I-TASSER<br>\n",
    "\n",
    "Wszystkie wymienione programy są dostępne do użytku dla studentów w sali doktorantów Zakładu Biofizyki Obliczeniowej i Bioinformatyki, B019 (najniższe pietro, pierwszy korytarz za strefą na lewo, ostatni pokój po lewej). Proszę o wcześniej kontakt przed wizytą: teams-Michał Gucwa/ michal.gucwa@doctoral.uj.edu.pl\n",
    "</p1>"
   ]
  },
  {
   "cell_type": "markdown",
   "id": "4e8541a1-33be-40af-a586-3bb725959dc3",
   "metadata": {},
   "source": [
    "<h4>Ćw. 1 CASP (The Critical Assessment of protein Structure Prediction)</h4>\n",
    "\n",
    "Celem eksperymentów w ramach Krytycznej Oceny Przewidywania Struktury Białka (CASP) jest wspieranie postępu w metodach identyfikowania struktury białka na podstawie sekwencji. Centrum zostało zorganizowane w celu zapewnienia środków do obiektywnego testowania tych metod poprzez proces ślepej predykcji. \n",
    "\n",
    "Ranking bazuje na:\n",
    "GDT_TS – GlobalDistanceTest_TotalScore \n",
    "GDT_TS = (GDT_P1 + GDT_P2 + GDT_P4 + GDT_P8)/4,\n",
    "gdzie GDT_Pn jest odestkiem reszt amikowsowych poniżej dystansu odcięcia <= nÅ "
   ]
  },
  {
   "cell_type": "markdown",
   "id": "65bb9558-3984-4975-ab0e-2476458b2892",
   "metadata": {},
   "source": [
    "Zad 1.1: Proszę objerzeć rozkład wyników dla CASP13, a następnie podać kto wygrał CASP14 w kategorii “regular targets”? "
   ]
  },
  {
   "cell_type": "markdown",
   "id": "12b3ed98-cecd-4e28-bcc8-c2215defdab6",
   "metadata": {},
   "source": [
    "Odp_1.1: Wygrał Alphafold2"
   ]
  },
  {
   "cell_type": "markdown",
   "id": "e58fe650-eb0c-4f21-ac71-b93c2e167648",
   "metadata": {},
   "source": [
    "Zad 1.2: Które miejsce zajmuje iTASSER (CASP14:Zhang-server, CASP15:UM-TBM)?"
   ]
  },
  {
   "cell_type": "markdown",
   "id": "e3515195-859f-4395-ba85-0c7cd6557788",
   "metadata": {},
   "source": [
    "Odp_1.2: W obu rankingach itasser nie brał udziału"
   ]
  },
  {
   "cell_type": "markdown",
   "id": "df95cae5-b9dd-43e5-ba82-e7590616f994",
   "metadata": {},
   "source": [
    "Zad 1.3: Czy zwycięzca CASP14 wziął udział w CASP15?"
   ]
  },
  {
   "cell_type": "markdown",
   "id": "04fc0a0e-e941-4368-98cb-4c2f7a74d890",
   "metadata": {},
   "source": [
    "Odp_1.3: Nie brał udziału"
   ]
  },
  {
   "cell_type": "markdown",
   "id": "06a5df9a-e32c-4422-8819-26aea5718866",
   "metadata": {},
   "source": [
    "Zad 1.4: Prównaj kategorie CASP11 vs CASP15 w jakich można brać udział (Rankings). "
   ]
  },
  {
   "cell_type": "markdown",
   "id": "f1ff96f4-c052-4b47-894d-0c53ffd39bef",
   "metadata": {},
   "source": [
    "Odp_1.4: Jest ich coraz więcej a poziom trudności też cały czas wzrasta."
   ]
  },
  {
   "cell_type": "markdown",
   "id": "a4c5b156",
   "metadata": {},
   "source": []
  },
  {
   "cell_type": "markdown",
   "id": "2e12ab7b-2297-4811-a9bf-b499284f5663",
   "metadata": {},
   "source": [
    "<h4>Ćw. 2 Rozpoznanie białka</h4>\n",
    "\n",
    "W ćwiczeniu będziemy pracowali na białku o sekwencji:\n",
    "\n",
    "<b>GAMGMKNAPLTLNFGSVRLPVSADGLLHAPTAQQQLGLTQSWEAALVEHGLPETYRDFG<br>\n",
    "AGPEAAVSVPDFVALAFALDTPEARRWQKRARELLARAMQGDVRVAAQIAERNPEPDARR<br>\n",
    "WLAARLESTGARRELLATVARHGGEGRVYGQLGSISNRTVLGKDSASVRQERGVKATRDGL<br>\n",
    "TSAELLRLAYIDTVTARAIQESEARGNAAILTLHEQVARSERQSWERAGQVQRVG<br></b>\n",
    "\n",
    "To białko było jednym z bialek użytych w CASP15 (Tar-id: T1120). \n",
    "\n",
    "Zanim przystąpimy do wyznaczenia struktury białka należy rozpoznać białko w istniejących bazach\n",
    "danych. Nawet jeżeli białko nie posiada zidentyfikowanej struktury to na podstawie samej sekwencji można uzyskać szereg informacji dotyczących rodziny, funkcji i potencjalnych ligandów białka. Temat baz zawierających informacje o sekwencji, strukturze i funkcjach białek omówiony został w ramach kursu bioinformatyka 1. Przypominamy tylko, że pomocne może być przeszukanie istniejących baz białkowych. Wykorzystać można między innymi serwisy BLAST i serwis UniProt."
   ]
  },
  {
   "cell_type": "markdown",
   "id": "eb9f017d-149e-4776-a601-1a92b93a77c4",
   "metadata": {},
   "source": [
    "Zad_2.1 Sprawdź co to za białko używająć BLAST (protein blast). Użyj rekordu który ma największy odsetek identycznych reszt aminokwasowych. Cofamy się do roku 2021 wieć nie wolno używać znalezionych struktur z bazy PDB (czteroliterowy kody: 7qvb, 8u0g, 7udi). Pomocne informacje można również zdobyc kopiując kod z kolumny \"accesion\" i pszeszukując bazę UniProt."
   ]
  },
  {
   "cell_type": "markdown",
   "id": "6887a63e-470d-4c3f-b5ef-d0f995e69288",
   "metadata": {},
   "source": [
    "Odp_2.1: Chain A, DNA damage response protein C"
   ]
  },
  {
   "cell_type": "markdown",
   "id": "9507f159-0758-4b16-87bc-aa099ee8ee27",
   "metadata": {},
   "source": [
    "Zad_2.2: jaką funkcję pełni?"
   ]
  },
  {
   "cell_type": "markdown",
   "id": "475bf1cf-4094-41a6-8163-01d488040808",
   "metadata": {},
   "source": [
    "Odp_2.2: Appears to contribute to D.radiodurans capacity to survive exposure to ionizing radiation (PubMed:15454524).\n",
    "Likely functions as a DNA damage-induced nucleoid-associated protein (NAP) that contributes to the enhanced level of nucleoid compaction after irradiation by bridging DNA duplexes, thereby limiting the dispersion of the fragmented genome immediately after irradiation to facilitate subsequent DNA repair. In vitro, binds both ssDNA and dsDNA, and is able to compact circular DNA, circularize linear DNA, anneal complementary DNA strands and protect DNA from nucleases (PubMed:35801857, PubMed:28542368)."
   ]
  },
  {
   "cell_type": "markdown",
   "id": "0442677a-c481-402f-9638-f85a20897925",
   "metadata": {},
   "source": [
    "Zad_2.3: jaka jest jego lokalizacja subkomórkowa?"
   ]
  },
  {
   "cell_type": "markdown",
   "id": "2adc2fab-9788-467e-af16-02eceeab63c7",
   "metadata": {},
   "source": [
    "Odp_2.3: Cytoplazma nukloid"
   ]
  },
  {
   "cell_type": "markdown",
   "id": "350b96b3-e3b4-4a8e-851e-79c0bda520d2",
   "metadata": {},
   "source": [
    "Zad_2.4: jakie jest UniProtKB ID?"
   ]
  },
  {
   "cell_type": "markdown",
   "id": "148ee4f0-29b7-459f-a584-c5796b7823f5",
   "metadata": {},
   "source": [
    "Odp_2.4: Q9RYE6"
   ]
  },
  {
   "cell_type": "markdown",
   "id": "e2809ccd",
   "metadata": {},
   "source": []
  },
  {
   "cell_type": "markdown",
   "id": "d7987a5d-8c6e-426e-a1b7-a254296aeaff",
   "metadata": {},
   "source": [
    "<h4>Ćw. 3 Przewidywanie struktury trzeciorzędowej - I-TASSER</h4>"
   ]
  },
  {
   "cell_type": "markdown",
   "id": "23935cd4-5d2c-47b0-8f95-7373c833af21",
   "metadata": {},
   "source": [
    "Jednym z narzędzi które dzisiaj będziemy używac jest I-TASSER, który służy do predykcji z użyciem modelowania homologicznego. Proszę wejść na stronę serwera:\n",
    "\n",
    "<a href=\"https://zhanglab.ccmb.med.umich.edu/I-TASSER/\">https://zhanglab.ccmb.med.umich.edu/I-TASSER/</a>\n",
    "\n",
    "(wyniki są już przygotowane na potrzeby tych ćwiczeń nie trzeba się rejestrować)<br>\n",
    "Strona wymaga rejestracji w celu korzystania z jego usług. Strona nie przyjmuje popularnych adresów ani mail komercyjnych, dlatego przy rejestracji należy użyć swojej skrzynki w domenie UJ. Proszę zwrócić uwagę, że można ograniczyć dostęp osób postronnych do naszych wyników – nie robimy tego z białkami z ćwiczeń. Dlaczego – o tym przekonamy się wchodząc do wyników przewidywań. W tym celu proszę na stronie serwera odszukać kolejkę (‘Queue’) i zobaczyć jak ona wygląda.\n",
    "\n",
    "Obliczenia na serwerze zajmują ~2dni.\n",
    "\n",
    "Na potrzeby ćwiczeń wykorzystamy jeden z już gotowych modeli, dostępnych do publicznego\n",
    "obejrzenia w kolejce, który został przygotowany dla sekwencji analizowanej we wcześniejszych\n",
    "punktach:"
   ]
  },
  {
   "cell_type": "markdown",
   "id": "50a60f89-32ce-46db-a635-48abd64d6094",
   "metadata": {},
   "source": [
    "<h5>Odrzucanie struktur szablonowych o wysokim stopniu identycznosci</h5>"
   ]
  },
  {
   "cell_type": "markdown",
   "id": "afd098b0-c3be-4c3f-bc43-19e23771ed7f",
   "metadata": {},
   "source": [
    "Zad_3.1:<br>\n",
    "Proszę obejrzeć plik <i>data/iTASSER_exclude/exclude.dat</i><br>\n",
    "Są to strkutry które są identyczne/podobne do naszej sekwencji, które zostały opublikowane po 2022, ten plik został użyty do odrzucenia struktur używanych jako białka szablonowe."
   ]
  },
  {
   "cell_type": "markdown",
   "id": "d3d71521-c122-40dd-9779-a31795118f8d",
   "metadata": {},
   "source": [
    "Zad_3.2:<br>\n",
    "Proszę uruchomic plik: data/iTASSER_exclude/S760663_results/index.html przy użyciu przeglądarki. \n",
    "Podaj 3 najważniejsze struktury bialek użyte jako szablony w modelowaniu homoligicznym analizowanej sekwencji.<br>\n",
    "(Podpowiedź: Top 10 threading templates used by I-TASSER)"
   ]
  },
  {
   "cell_type": "markdown",
   "id": "23362b7e-6809-4cb4-9a88-256f6809a98f",
   "metadata": {},
   "source": [
    "Odp_3.2: 1. Crystal structure of MCL-1 in complex with computationally designed inhibitor protein (7XGE)<br>\n",
    "        2. Junction 23, DHR14-DHR18 (6W2V)<br>\n",
    "        3. Cryo-EM structure of calcium-free mTMEM16F lipid scramblase in nanodisc (6QPI)<br>"
   ]
  },
  {
   "cell_type": "markdown",
   "id": "5d992386-b6e1-4a5f-ba6b-fcb5501e84c6",
   "metadata": {},
   "source": [
    "Zad_3.3 podaj szacowany TM, RMSD, oraz C-score dla modelu 1:"
   ]
  },
  {
   "cell_type": "markdown",
   "id": "86ef94fe-03e3-4832-888a-0e91b2fe6243",
   "metadata": {},
   "source": [
    "Odp_3.3: TM = 0.34±0.11 <br>\n",
    "RMSD = 13.9±3.9Å<br>\n",
    "C-score = -4.56<br>"
   ]
  },
  {
   "cell_type": "markdown",
   "id": "88fd3c3c-12e2-45c3-940c-7b9141f09592",
   "metadata": {},
   "source": [
    "Zad_3.4 Obejrzeć strukture w PymMOL i podać RMSD, napisać czy I-TASSER poprawnie przewidział szacowane RMSD tego modelu. Oceń obiektywnie tą predykcję. \n",
    "\n",
    "PyMOL można pobrać z:<br>\n",
    "<a href=\"https://pymol.org/2/\">https://pymol.org/2/</a><br>\n",
    "Jeżeli ktoś używa linuxa to wtedy dodać do .bashrc:<br>\n",
    "export PATH=\"/sciezka_do_katalogu/pymol/bin:$PATH\"\n",
    "\n",
    "\n",
    "Otworzyć PyMOL w katalogu z wynikami z ITASSER'a, a następnie wpisać komendy:<br>\n",
    "<u>load model1.pdb<br>\n",
    "fetch 7qvb<br>\n",
    "hide everything, m. 7qvb and c. B<br>\n",
    "hide everything, not polymer<br>\n",
    "extra_fit n. CA and c. A<br>\n",
    "color green, m. 7qvb<br>\n",
    "color blue, m. model1<br></u>\n",
    "<br><br>\n",
    "Na zielono jest referencja, na niebiesko jest nasz model<br>"
   ]
  },
  {
   "cell_type": "markdown",
   "id": "e2c6dbb9-0291-492b-bd98-49feaae5eb30",
   "metadata": {},
   "source": [
    "Odp_3.4: I-TASSER lekko roznilo sie wzgledem orginalu z pymol'a gdzie RMSD = 15.469 (212 atoms)"
   ]
  },
  {
   "cell_type": "markdown",
   "id": "731ae154-8ca4-48a7-991e-784f63aff625",
   "metadata": {},
   "source": [
    "<h5>Bez Odrzucania struktur szablonowych o wysokim stopniu identycznosci</h5>"
   ]
  },
  {
   "cell_type": "markdown",
   "id": "21fcf194-331d-42d2-8f76-02e24cb7b69b",
   "metadata": {},
   "source": [
    "Zad_3.5 <br>\n",
    "Proszę uruchomic plik: data/iTASER_100ident/7qvb_results/index.html przy użyciu przeglądarki. \n",
    "Są to wyniki dla I-TASSER które nie uzwględniaja odrzucania 3 struktur identycznych/o bardzo wysokim stopni identyczności.\n",
    "Podaj 3 najważniejsze struktury bialek użyte jako szablony w modelowaniu homoligicznym analizowanej sekwencji.<br>\n",
    "(Podpowiedź: Top 10 threading templates used by I-TASSER)"
   ]
  },
  {
   "cell_type": "markdown",
   "id": "fe13ad32-7a22-4449-abd2-f5534333a573",
   "metadata": {},
   "source": [
    "Odp_3.5:\n",
    "1. Crystal structure of the DNA-binding protein DdrC from Deinococcus radiodurans (7QVB)<br>\n",
    "2. Computationally designed right-handed alpha/alpha single-chain toroid with 9 repeats (6XR1)<br>\n",
    "3. Crystal structure of aq_1058, a transcriptional regulator (TerR/AcrR family) from Aquifex aeolicus VF5 (2EH3)"
   ]
  },
  {
   "cell_type": "markdown",
   "id": "5d34ece0-bac9-4eaf-9b0b-b632293b1db3",
   "metadata": {},
   "source": [
    "Zad_3.6 podaj szacowany TM, RMSD, oraz C-score dla modelu 1:<br>\n",
    "\n"
   ]
  },
  {
   "cell_type": "markdown",
   "id": "e4972ba0-3700-4529-a01e-2a114b964421",
   "metadata": {},
   "source": [
    "Odp_3.6:<br>\n",
    "C-score=0.58<br>\n",
    "Estimated TM-score = 0.79±0.09<br>\n",
    "Estimated RMSD = 4.5±3.0Å\n"
   ]
  },
  {
   "cell_type": "markdown",
   "id": "92d5d28c-db7f-4b0a-b980-0a2c6beabe62",
   "metadata": {},
   "source": [
    "Zad_3.7 Obejrzeć strukture w PyMOL i podać RMSD. Oceń obiektywnie tą predykcje<br><br>\n",
    "\n",
    "Otworzyć PyMOL w katalogu z wynikami z ITASSER'a, a następnie wpisać komendy:<br>\n",
    "<u>load model1.pdb<br>\n",
    "fetch 7qvb<br>\n",
    "hide everything, m. 7qvb and c. B<br>\n",
    "hide everything, not polymer<br>\n",
    "extra_fit n. CA and c. A<br>\n",
    "color green, m. 7qvb<br>\n",
    "color blue, m. model1<br></u>\n",
    "<br><br>\n",
    "Na zielono jest referencja, na niebiesko jest nasz model"
   ]
  },
  {
   "cell_type": "markdown",
   "id": "4910cf35-e67f-4d5a-89c9-4d7eeec7dc17",
   "metadata": {},
   "source": [
    "Odp_3.7: Białka sa bardzo podobne."
   ]
  },
  {
   "cell_type": "markdown",
   "id": "efecf155-fb56-4f77-893f-1e6fd5cbd030",
   "metadata": {},
   "source": [
    "<h4>Ćw. 4 Przewidywanie struktury trzeciorzędowej – MODELLER</h4>\n",
    "\n",
    "W tym ćwiczeniu przejdziemy przez basic-tutorial, na którym opierał się wykład:<br>\n",
    "https://salilab.org/modeller/tutorial/basic.html<br><br><br>\n",
    "\n",
    "Wymagana jest instalacja modellera:<br>\n",
    "<u>conda config --add channels salilab<br>\n",
    "conda install modeller</u><br><br>\n",
    "\n",
    "Później będzie się czepiał o klucz licencyjny:\n",
    "ModellerError: check_lice_E> Invalid license key: XXXX\n",
    "Go to https://salilab.org/modeller/ to get a license key,\n",
    "and then set the 'license' variable to it in the file\n",
    "/sciezka_do_anacondy/Anaconda/anaconda3/envs/cw2/lib/modeller-10.4/modlib/modeller/config.py\n",
    "\n",
    "Wtedy w pliku należey zamiast XXXX wpisać MODELIRANJE i zrestartować kernerl jupyter notebook'a"
   ]
  },
  {
   "cell_type": "code",
   "execution_count": null,
   "id": "0c06d754-d505-4ea8-a9af-0af08688e214",
   "metadata": {},
   "outputs": [],
   "source": [
    "from modeller import *"
   ]
  },
  {
   "cell_type": "code",
   "execution_count": null,
   "id": "af8c527d-3dec-4058-8ec1-407c59feee7d",
   "metadata": {},
   "outputs": [],
   "source": [
    "import numpy as np"
   ]
  },
  {
   "cell_type": "code",
   "execution_count": null,
   "id": "25a3c8bb-9289-4838-a759-d6347ca164d2",
   "metadata": {},
   "outputs": [],
   "source": [
    "from matplotlib import pyplot as plt"
   ]
  },
  {
   "cell_type": "markdown",
   "id": "439c356a-4d1c-4784-b368-c37cadb554ca",
   "metadata": {},
   "source": [
    "<h4> Modeller etap 1 - szukanie struktur spokrewnionych z badaną sekwncją, w bazach danych </h4>\n",
    "\n",
    "Przeszukiwanie bazy danych. Plik data/modeller_tutorial/basic-example/pdb_95.pir zawiera pdb_id:łańczuch wraz z przypisanymi do nich sekwnecjami w formacie PIR. Bazę przeszukujemy względem sekwencji zapisanej w pliku \"data/modeller_tutorial/basic-example/TvLDH.ali\" (nie jest to nasza sekwencja z CASP15). Baza ta zawiera 11079 rekordów. "
   ]
  },
  {
   "cell_type": "markdown",
   "id": "1745e6a5-4865-4845-865e-a2fc96f22256",
   "metadata": {},
   "source": [
    "Zad 4.1: Prosze się przyglądnać obydwu plikom."
   ]
  },
  {
   "cell_type": "code",
   "execution_count": null,
   "id": "c93fc22e-7d13-40ff-9809-ea17d476b631",
   "metadata": {},
   "outputs": [],
   "source": [
    "log.verbose()\n",
    "env = Environ()\n",
    "\n",
    "#-- Prepare the input files\n",
    "\n",
    "#-- Read in the sequence database\n",
    "sdb = SequenceDB(env)\n",
    "sdb.read(seq_database_file='data/modeller_tutorial/basic-example/pdb_95.pir', seq_database_format='PIR',\n",
    "         chains_list='ALL', minmax_db_seq_len=(30, 4000), clean_sequences=True)\n",
    "\n",
    "#-- Write the sequence database in binary form\n",
    "sdb.write(seq_database_file='pdb_95.bin', seq_database_format='BINARY',\n",
    "          chains_list='ALL')\n",
    "\n",
    "\n",
    "#-- Now, read in the binary database\n",
    "sdb.read(seq_database_file='pdb_95.bin', seq_database_format='BINARY',\n",
    "         chains_list='ALL')\n",
    "\n",
    "\n",
    "#-- Read in the target sequence/alignment\n",
    "aln = Alignment(env)\n",
    "aln.append(file='data/modeller_tutorial/basic-example/TvLDH.ali', alignment_format='PIR', align_codes='ALL')\n",
    "\n",
    "#-- Convert the input sequence/alignment into\n",
    "#   profile format\n",
    "prf = aln.to_profile()\n",
    "\n",
    "#-- Scan sequence database to pick up homologous sequences\n",
    "prf.build(sdb, matrix_offset=-450, rr_file='${LIB}/blosum62.sim.mat',\n",
    "          gap_penalties_1d=(-500, -50), n_prof_iterations=1,\n",
    "          check_profile=False, max_aln_evalue=0.01)\n",
    "\n",
    "#-- Write out the profile in text format\n",
    "prf.write(file='build_profile.prf', profile_format='TEXT')\n",
    "\n",
    "#-- Convert the profile back to alignment format\n",
    "aln = prf.to_alignment()\n",
    "\n",
    "\n",
    "#-- Write out the alignment file\n",
    "aln.write(file='build_profile.ali', alignment_format='PIR')"
   ]
  },
  {
   "cell_type": "markdown",
   "id": "39924f7b-e5a9-43f7-ba0f-755a3107b72b",
   "metadata": {},
   "source": [
    "Zad 4.2: <br>\n",
    "W Wyniku przeszkuwiania bazy danych znaleziono 29 sekwncji podobnych do sekwencji białka celu. Prosze zobaczyć plik wynikowy: \"build_profile.prf\". W ostanie kolumnie mamy E-value dopasowania, w przedostatniej odsetek identycznych reszt. Prosze zwrócić uwagę na to że jednym z parametrów przeszukiwania bazy danych było:<br>\n",
    "max_aln_evalue=0.01<br>\n",
    "Prosze podać jakie stuktury/łańcuchy mają wartość E-value równą 0"
   ]
  },
  {
   "cell_type": "markdown",
   "id": "3dceaddc-9f90-49bd-9efb-478f32c40d78",
   "metadata": {},
   "source": [
    "Odp_4.2: 1b8p<br>\n",
    "1bdm<br>\n",
    "1civ<br>\n",
    "5mdh<br>\n",
    "1smk<br>\n"
   ]
  },
  {
   "cell_type": "markdown",
   "id": "fc76f457-9cdd-4718-ae20-9f46b5472557",
   "metadata": {},
   "source": [
    "<h4> Etap 2 - wybieranie struktur które posłuża jako szablon w modelowaniu homologicznym</h4>\n",
    "\n",
    "Wybeiramy 6 sekwncji charakteryzujace sie miarą istotności wyniku (E-value) równą  0."
   ]
  },
  {
   "cell_type": "code",
   "execution_count": null,
   "id": "01c44eae-d0bf-450e-ba2e-ac869dc1e4b9",
   "metadata": {},
   "outputs": [],
   "source": [
    "aln = Alignment(env)\n",
    "\n",
    "for (pdb, chain) in (('1b8p', 'A'), ('1bdm', 'A'), ('1civ', 'A'),\n",
    "                     ('5mdh', 'A'), ('7mdh', 'A'), ('1smk', 'A')):\n",
    "    m = Model(env, file='data/modeller_tutorial/basic-example/'+pdb+'.pdb', model_segment=('FIRST:'+chain, 'LAST:'+chain))\n",
    "    aln.append_model(m, atom_files='data/modeller_tutorial/basic-example/'+pdb+'.pdb', align_codes=pdb+chain)\n",
    "aln.malign()\n",
    "aln.malign3d()\n",
    "aln.compare_structures()\n",
    "aln.id_table(matrix_file='family.mat')\n",
    "env.dendrogram(matrix_file='family.mat', cluster_cut=-1.0)"
   ]
  },
  {
   "cell_type": "markdown",
   "id": "8fc33311-1c68-4557-8c9a-47afe382c3b4",
   "metadata": {},
   "source": [
    "Górny panel podaje informacje odnośnie podobnieństwa sekwencji, dolny panel w formie dendrogramu podaje pdoobieństwo strukturalne.\n",
    "\n",
    "Widzimy tutaj 3 grupy struktur które są strukturalnie do siebie podbne:\n",
    "-5mdh:A, 1bdm:A, oraz 1b8p:A -> sposród tej grupy 1bdm ma najlepszy R-factor rozdzielczoc \n",
    "            oraz procent identycznoscioraz rozdzielczosc struktury\n",
    "-1smk ma tylko 34% identyczności względem badanej sekwencji\n",
    "-1civA oraz 7mdhA posiada gorszą rozdzielczosc.<br><br> \n",
    "Twórcy tutoriala na te potrzeby chcieli wybrać tylko jeden szablon"
   ]
  },
  {
   "cell_type": "markdown",
   "id": "50b7d633-35a4-4a19-b350-c945263e6022",
   "metadata": {},
   "source": [
    "<h4>Etap 3 - dopasowanie sekwencji szablonowych do badanej</h4>"
   ]
  },
  {
   "cell_type": "code",
   "execution_count": null,
   "id": "a8118c22-31c5-4249-a741-7bde85fcafbf",
   "metadata": {},
   "outputs": [],
   "source": [
    "env = Environ()\n",
    "aln = Alignment(env)\n",
    "mdl = Model(env, file='data/modeller_tutorial/basic-example/1bdm', model_segment=('FIRST:A','LAST:A'))\n",
    "aln.append_model(mdl, align_codes='1bdmA', atom_files='1bdm.pdb')\n",
    "aln.append(file='data/modeller_tutorial/basic-example/TvLDH.ali', align_codes='TvLDH')\n",
    "aln.align2d(max_gap_length=50)\n",
    "aln.write(file='TvLDH-1bdmA.ali', alignment_format='PIR')\n",
    "aln.write(file='TvLDH-1bdmA.pap', alignment_format='PAP')"
   ]
  },
  {
   "cell_type": "markdown",
   "id": "14c63713-e511-4766-8d30-35e444e89dba",
   "metadata": {},
   "source": [
    "Zad 4.3 <br>\n",
    "Obejrzyj plik wynikowy: TvLDH-1bdmA.ali"
   ]
  },
  {
   "cell_type": "markdown",
   "id": "f327eeee-ad2f-453b-8c41-9b7fa52643e2",
   "metadata": {},
   "source": [
    "<h4>Etap 4 - budowanie modelu</h4>"
   ]
  },
  {
   "cell_type": "code",
   "execution_count": null,
   "id": "50333630-cf6b-451a-83cb-33bfe76cf7db",
   "metadata": {},
   "outputs": [],
   "source": [
    "from modeller import *\n",
    "from modeller.automodel import *\n",
    "#from modeller import soap_protein_od\n",
    "\n",
    "env = Environ()\n",
    "env.io.atom_files_directory = ['.', 'data/modeller_tutorial/basic-example/']\n",
    "aln = Alignment(env)\n",
    "a = AutoModel(env, alnfile='TvLDH-1bdmA.ali',\n",
    "              knowns='1bdmA', sequence='TvLDH',\n",
    "              assess_methods=(assess.DOPE,\n",
    "                              #soap_protein_od.Scorer(),\n",
    "                              assess.GA341))\n",
    "a.starting_model = 1\n",
    "a.ending_model = 5\n",
    "a.make()"
   ]
  },
  {
   "cell_type": "markdown",
   "id": "9ad1f8ac-ebac-4e89-be12-3ff1cb2755ec",
   "metadata": {},
   "source": [
    "<h4>Etap 5 - Walidacja</h4>"
   ]
  },
  {
   "cell_type": "code",
   "execution_count": null,
   "id": "1bbfc3ec-588a-458b-84b9-aadb721d87db",
   "metadata": {},
   "outputs": [],
   "source": [
    "from modeller import *\n",
    "from modeller.scripts import complete_pdb\n",
    "\n",
    "log.verbose()    # request verbose output\n",
    "env = Environ()\n",
    "env.libs.topology.read(file='$(LIB)/top_heav.lib') # read topology\n",
    "env.libs.parameters.read(file='$(LIB)/par.lib') # read parameters\n",
    "\n",
    "# read model file\n",
    "mdl = complete_pdb(env, 'TvLDH.B99990002.pdb')\n",
    "\n",
    "# Assess with DOPE:\n",
    "s = Selection(mdl)   # all atom selection\n",
    "s.assess_dope(output='ENERGY_PROFILE NO_REPORT', file='TvLDH.profile',\n",
    "              normalize_profile=True, smoothing_window=15)"
   ]
  },
  {
   "cell_type": "code",
   "execution_count": null,
   "id": "9ac0b8db-3c03-4088-9418-330a7f9d2749",
   "metadata": {},
   "outputs": [],
   "source": [
    "from modeller import *\n",
    "import os, sys\n",
    "\n",
    "env = environ()\n",
    "env.libs.topology.read(file='$(LIB)/top_heav.lib')\n",
    "env.libs.parameters.read(file='$(LIB)/par.lib')\n",
    "\n",
    "env.io.atom_files_directory = ['.', 'data/modeller_tutorial/basic-example/']\n",
    "                               \n",
    "mdl = model(env, file='1bdm', model_segment=('FIRST:A','LAST:A'))\n",
    "s = selection(mdl)                             \n",
    "s.assess_dope(output='ENERGY_PROFILE NO_REPORT',\n",
    "                 file='1bdmA.profile',\n",
    "                 normalize_profile=True,\n",
    "                 smoothing_window=15)                            "
   ]
  },
  {
   "cell_type": "code",
   "execution_count": null,
   "id": "42a92107-f45a-4471-bcc6-5b431925cd7d",
   "metadata": {},
   "outputs": [],
   "source": [
    "data_model=np.loadtxt('TvLDH.profile',comments=['#'],skiprows=1,usecols=(0, 41))\n",
    "data_template=np.loadtxt('1bdmA.profile',comments=['#'],skiprows=1,usecols=(0, 41))\n",
    "\n",
    "plt.plot(data_model[:,0],data_model[:,1],label='model')\n",
    "plt.plot(data_template[:,0],data_template[:,1],label='template')\n",
    "plt.legend()\n",
    "plt.xlabel(\"Aligment position\")\n",
    "plt.ylabel(\"DOPE per-residue score\")"
   ]
  },
  {
   "cell_type": "markdown",
   "id": "37cda996-31e6-4f20-b699-5003f41de28f",
   "metadata": {},
   "source": [
    "Istnieje wiele metod oceny jakości modelu, które dostarczają wyników wspomagających proces jego udokładniania dzięki identyfikowaniu niepoprawnie przewidzianych fragmentów struktury przestrzennej białka celu. W tej części ćwiczenia zostanie wykorzystana metoda DOPE (ang. Discrete Optimized Protein Energy) zaimplemetowana w programie MODELLLER.\n",
    "<br>\n",
    "W przypadku kiedy wielkość potencjału DOPE dla szablonu jest zbliżona (różnica mniejsza niż 5%) do tej uzyskanej dla modelu, można zwykle przyjąć, że uzyskano dobry model białka."
   ]
  },
  {
   "cell_type": "markdown",
   "id": "0c332cd2-560e-4ea3-8c21-a222a39b60e6",
   "metadata": {},
   "source": [
    "Zad_4.4: Czy MODELLER opeira sie na modelowaniu homologicznym czy modelowaniu ab initio?\n",
    "Wymień 5 etapów modelowania w tym ćwiczeniu:"
   ]
  },
  {
   "cell_type": "markdown",
   "id": "0a064cbd-0831-457c-84ce-3fdf3a98ae5b",
   "metadata": {},
   "source": [
    "Odp_4.4: 1. sprawdzenie czy prownane struktury sa ze soba powiazane i jak.<br>\n",
    "Glownie na podstawie podobienst. Struktury sa wybierane do szablonu homologicznego<br>\n",
    "2. Budowanie modelu struktur. <br>\n",
    "3. Dopasowanie szablinu. <br>\n",
    "4. Moze poronywac struktury ze struktura krystaliczna - dziala to jako walidacja wynikow. <br>\n",
    "5. Przeszukiwanie baz danych\n"
   ]
  },
  {
   "cell_type": "markdown",
   "id": "6374299e-1435-4a28-8191-e916576da207",
   "metadata": {},
   "source": [
    "<h4>Ćw. 5 Przewidywanie struktury trzeciorzędowej – alphafold2</h4>"
   ]
  },
  {
   "cell_type": "markdown",
   "id": "a1a544b6-649b-402d-93a4-d556db3706f5",
   "metadata": {},
   "source": [
    "Przeanalizuj pliki w:<br>\n",
    "data/af2/7qvb/input\n",
    "\n",
    "Następnie przejść do:<br>\n",
    "data/af2/7qvb/output\n",
    "\n",
    "1. Proszę sprawdzić plik “ranking_debug.json”. af2 tworzy 5 modeli x5predykcji w formie plików pdb+pkl, a następnie towrzy ranking od najbardziej do najmniej żetelnej struktury. Dla uproszenia w katalogu znajduje sie tylko “model_2_multimer_v2_pred_1”, natomiast nie ma plików pkl z parametrami ze względu na ich duzy rozmiar.\n",
    "\n",
    "2. Proszę przeanalizaować plik: coverage_LDDT.png oraz PAE.png"
   ]
  },
  {
   "cell_type": "markdown",
   "id": "ec57268b-5afc-4049-8acd-2e0c2931123e",
   "metadata": {},
   "source": [
    "Zad_5.1: Przeanalizuj pierwszy pierwszy graf (po lewej) w pliku: coverage_LDDT.png, reprezentuje on MSA (multiple sequence aligment). Spróbuj wytłumaczyć zmniejszony parametr LDDT w okolicach 109-116 reszty aminokwasowej przewidzianej struktury. "
   ]
  },
  {
   "cell_type": "markdown",
   "id": "e52b2fad-68fb-4c81-985a-34333413a145",
   "metadata": {},
   "source": [
    "Odp_5.1: Zmniejszony LDDT jest związany z gorszym dopasowaniem sekwencji celu do szablonów, ktore wykorzystuje alphafold"
   ]
  },
  {
   "cell_type": "markdown",
   "id": "0965d046-9924-4f7d-a774-0d3f2012e64b",
   "metadata": {},
   "source": [
    "Uruchom program pymol w katalogu data/af2/7qvb/output:<br>\n",
    "Ściagnąć strukture eksperymentalna badanej sekwenjcji:<br>\n",
    "<u>fetch 7qvb</u> <br>\n",
    "Załadować model1, jest to konformacja białka przewidziana przez AlhaFold2:<br>\n",
    "<u>load relaxed_model_1_multimer_v2_pred_2.pdb </u><br>\n",
    "Wyświetlic tylko łańcuch A homodimeru (7qvb):<br>\n",
    "<u>hide everything, not polymer or c. B</u><br>\n",
    "Nałożyć na siebie te struktury względem atomów C-alpha:<br>\n",
    "<u>extra_fit n. CA and c. A</u><br>\n",
    "Pokoloruj przewidziana strukture według parametru LDDT który jest zapisany w kolumnie z B-factor:<br>\n",
    "<u>spectrum b, red_yellow_blue, minimum=0, maximum=100, selection=m. relaxed_model_1_multimer_v2_pred_2</u><br>"
   ]
  },
  {
   "cell_type": "markdown",
   "id": "405782aa-2e79-4b1a-a3b3-97b118ad6234",
   "metadata": {},
   "source": [
    "Zad 5.2: Jakie jest RMSD nałożenia z struktura 7qvb? Czy jest lepsze od wyników zaprezentowanych przez I-TASSER?"
   ]
  },
  {
   "cell_type": "markdown",
   "id": "e4d36768-0e6f-460c-82ce-b37736c2edc5",
   "metadata": {},
   "source": [
    "Odp_5.2: RMSD =    1.586 (200 atoms). Dodatkowo samo nalozenie jest zdecydowanie lepsze niz zaprezentowane przez I-TASSER. Prawdopodobnie wiaze sie to z wieksza iloscia paramtrow"
   ]
  },
  {
   "cell_type": "markdown",
   "id": "083f7836-d34a-4f62-8c80-b049721413d8",
   "metadata": {},
   "source": [
    "Zad_5.3: Zlokalizuj miejsce charakteryzowane mniejszym LDDT a następnie napisz jaka to struktura II rzędowa/fragment nieuporządkowany/linker?<br>\n",
    "Można sobie pomóc wpisujac komende:<br>\n",
    "<u>select resid 110-115 and n. CA+C+N and m. relaxed_model_1_multimer_v2_pred_2</u>"
   ]
  },
  {
   "cell_type": "markdown",
   "id": "571807eb-066c-407b-a031-8067df805c82",
   "metadata": {},
   "source": [
    "Odp_5.3: Jest to lacznik miedzy 2 (alfa)helisami, wystepuje miedzy reszta 110-115"
   ]
  },
  {
   "cell_type": "markdown",
   "id": "573e9f29-009c-4f0f-b112-0cd550ceae95",
   "metadata": {},
   "source": [
    "Zad 5.4: <br>\n",
    "sciagnij mape gestosci elektronowej dla struktury eksperymentalnej:\n",
    "\n",
    "<u>fetch 7qvb, type=2fofc</u>\n",
    "\n",
    "<u>isomesh mesh_ligand_carved, 7qvb_2fofc, selection=(resid 157-178 and c. A), carve=3</u>\n"
   ]
  },
  {
   "cell_type": "markdown",
   "id": "12451abe-77d9-444d-acd0-41fef0abb8da",
   "metadata": {},
   "source": [
    "Czy dzięki af2 moża dowiedzięc się czegoś potencjalnie nowego, a czego nie wykazano w danych eksperymentalnych?\n"
   ]
  },
  {
   "cell_type": "markdown",
   "id": "ba86f4b2-7533-4612-b4b2-9b60dfa58157",
   "metadata": {},
   "source": [
    "Odp_5.4: Nie mozna dwoiedziec sie niczego wiecej"
   ]
  },
  {
   "cell_type": "markdown",
   "id": "a7b49552-0386-4233-924e-143dc0915e39",
   "metadata": {},
   "source": [
    "Zad_5.5:<br>\n",
    "\n",
    "<u>disable mesh_ligand_carved</u><br>\n",
    "<u>disable 7qvb</u><br>\n",
    "Wyświetl aminokwasy hydrofobowe:<br>\n",
    "<u>show sticks, resn ALA+VAL+LEU+ILE+PHE+TRP+MET+TYR</u><br>\n",
    "\n",
    "Czy znajdują się na powierzchni przewidzianej struktury jakies ugrupowania aminokwasow hydrofobowych? Czy można podejżewać że białko to występuje w formie dimeru?"
   ]
  },
  {
   "cell_type": "markdown",
   "id": "2dc94898-b7b6-4f8d-9816-5d9402dd14c8",
   "metadata": {},
   "source": [
    "Odp_5.5:<br>\n",
    "Tak, wsytępują tam białka w formie dimeru w dwóch szczególnych mejscach sekwencji: 1-9,<br>\n",
    "230-234. Miejsca te znajdują się na początku i na końcu struktury bialka co sugeruje powstawanie dimeru. "
   ]
  },
  {
   "cell_type": "markdown",
   "id": "209244e1-c7d1-423f-be7e-ec249e4341e9",
   "metadata": {},
   "source": [
    "<h4>Ćw. 6 Przewidywanie struktury trzeciorzędowej – alphafold2 cd.</h4>\n",
    "\n",
    "Przeanalizuj pliki inputowe znajdujace sie w:<br>\n",
    "./data/af2/7qvb_dimer/input<br>\n",
    "-7qvb_dimer.fasta<br>\n",
    "-7qvb_dimer.sh<br>"
   ]
  },
  {
   "cell_type": "markdown",
   "id": "6bdc25cc-e0c4-4378-bde6-b9547a223cd5",
   "metadata": {},
   "source": [
    "Zad_6.1: Czym różnią się pliki inputowe dla alphafold2 7qvb_dimer.fasta w porównaniu do 7qvb.fasta?"
   ]
  },
  {
   "cell_type": "markdown",
   "id": "e37c5372-fdda-4685-a916-03eec92cb6db",
   "metadata": {},
   "source": [
    "Odp_6.1: <br>\n",
    "pliki inputowe do 7qvb a 7qvb_dimer nie roznia, niestety pliki inputowe fasta nie bylem w stanie otworzyc."
   ]
  },
  {
   "cell_type": "markdown",
   "id": "b3595f4e-7837-414e-b190-bf7a94f35512",
   "metadata": {},
   "source": [
    "Uruchom program pymol w katalogu data/af2/7qvb_dimer/output:\n",
    "\n",
    "Ściagnąć strukture eksperymentalna badanej sekwenjcji:<br>\n",
    "<u>fetch 7qvb</u><br>\n",
    "<u>hide everything, not polymer</u><br>\n",
    "Załadować model3, jest to konformacja białka przewidziana przez AlhaFold2:<br>\n",
    "<u>load relaxed_model_3_multimer_v2_pred_0.pdb</u><br>\n",
    "Nałożyć na siebie te struktury względem atomów C-alpha:<br>\n",
    "<u>extra_fit n. CA and c. A</u><br>\n",
    "\n",
    "Pokoloruj łańcuchy ( na niebiesko łańcuchy A, na zielono łańcuchy B, na ciemno strukture eksperymentalna 7qvb, na jasno strukturę przewidzianą przez af2):<br>\n",
    "<u>color blue, m. 7qvb and c. A<br>\n",
    "color marine, m. relaxed_model_3_multimer_v2_pred_0 and c. A<br>\n",
    "color forest, m. 7qvb and c. B<br>\n",
    "color limegreen, m. relaxed_model_3_multimer_v2_pred_0 and c. B</u>"
   ]
  },
  {
   "cell_type": "markdown",
   "id": "46d1733d-f861-450a-b56f-de615c777287",
   "metadata": {},
   "source": [
    "Zad_6.2: Czy globale dopasowanie dla obu łańcuchów jest akcpetowalne? Jakie jest RMSD: <br>\n",
    "<u>extra_fit n. CA</u><br>"
   ]
  },
  {
   "cell_type": "markdown",
   "id": "3364e8ea-0003-4f1a-b94e-c3a2c107d8b9",
   "metadata": {},
   "source": [
    "Odp_6.2:<br>\n",
    "RMSD = 6.659<br>\n",
    "jak widać RMSD jest malo zadowalajace w porowaniu do pozostalych porownywanych przez nas bialek.<br>\n",
    "Jednoznaczna ocena czy dopasowanie globalne moze byc trudna.<br>\n",
    "Glownie ze wzgledu na duza ilosc czynnikow wpluwajacych na wynik (poprzednie wyniki, standardy wynikow w krystalograsfii).<br>\n",
    "Jednakze patrzac na poprzednie wyniki (7qvb) mozemy stwiedzic ze globalne dopasowanie lancuchow nie jest akcpetowalne. "
   ]
  },
  {
   "cell_type": "markdown",
   "id": "38bed88c-85c0-404a-bdab-a53f9e05c38c",
   "metadata": {},
   "source": [
    "Zad_6.3: Czy globalne dopasowanie dla łancucha A jest akcpetowalne?: Jakie jest RMSD:<br>\n",
    "<u>extra_fit n. CA and c. A</u>"
   ]
  },
  {
   "cell_type": "markdown",
   "id": "4494b418-a4b5-4976-9385-c4e227b9c1b0",
   "metadata": {},
   "source": [
    "Odp_6.3:<br>\n",
    "RMSD =    1.373<br>\n",
    "Dopasowanie jest jak najbardziej akcpetowalne.<br>\n",
    "(Wyniki rowne lub mniejsze od 2 uznawane sa za bardzo dobre)"
   ]
  },
  {
   "cell_type": "markdown",
   "id": "a55ebc8a-add7-4f97-8530-bf5784f2186d",
   "metadata": {},
   "source": [
    "Zad_6.4: Czy globalne dopasowanie dla łancucha B jest akcpetowalne?: Jakie jest RMSD:<br>\n",
    "<u>extra_fit n. CA and c. B</u>"
   ]
  },
  {
   "cell_type": "markdown",
   "id": "0e293c03-e858-452b-a7e3-b2f25ed59040",
   "metadata": {},
   "source": [
    "Odp_6.4:<br>\n",
    "RMSD =    7.972 (najwyzszy wynik z calej trojki)<br>\n",
    "Wynik nieakcpetowalny"
   ]
  },
  {
   "cell_type": "markdown",
   "id": "74a406d7-175a-4a88-aa52-2d2a206a1f5b",
   "metadata": {},
   "source": [
    "Zad 6.5: Sprawdz dwa loklne dopasowania łancucha B i podaj ich RMSD:<br>\n",
    "n. CA and c. B and resid 1-121 → RMSD: RMSD =    1.813<br>\n",
    "n. CA and c. B and resid 125-230 → RMSD: RMSD =   10.784<br>\n",
    "\n",
    "Wykonaj dopasowanie:<br>\n",
    "<u>extra_fit n. CA and ( c. A or ( c. B and resid 1-121))</u><br>\n",
    "\n",
    "I opisz największą różnice pomiedzy struktyura eksperymentalna a przywidzianą przez alphafold2.\n",
    "Czy ta różnica jest spowodowana odmienną konformacją krótkiego fragmentu łańcucha czy może dłuższy fragment został niepoprawnie przewidziany. Podaj zakres reszt które wprowadzają największą różnicę pomiedzy tymi dwoma strukturami."
   ]
  },
  {
   "cell_type": "markdown",
   "id": "2e3893a2-546e-4662-bbce-3ce27eac9f9b",
   "metadata": {},
   "source": [
    "Odp_6.5<br>\n",
    "Struktura przewidziana przez AF2 ma bardzo dobre wyniki, nierozniace sie wiele miedzy soba.<br>\n",
    "Najwieksza roznica jest zauwazalna podczas zmian resid,<br>\n",
    "gdzie przy resid 1-121 alfa-helisy calej struktuiry sa blisko siebie.<br>\n",
    "Szczegolnie na obszarach 1-226(7qvb/A/A/-3) i 1-226(7qvb/B/B/-3).<br>\n",
    "Bardzo mozliwe jest, ze fragment lancucha zostal niepoprawnie przewidziany,<br>\n",
    "to sugerowaloby skad ta zmiana w konformacji. "
   ]
  },
  {
   "cell_type": "markdown",
   "id": "9f56a79b-074a-474f-87f1-6e412badaaf9",
   "metadata": {},
   "source": [
    "Zad_6.6: Idź do RCSB I wprowadź, zaznacz “include CSM” I wprowadz unirpot ID.\n",
    "Czy sa jakies struktury wymodelowane komputerowo? "
   ]
  },
  {
   "cell_type": "markdown",
   "id": "6f3ec38b-0a2c-4df9-b812-df84391c4967",
   "metadata": {},
   "source": [
    "Odp_6.6<br>\n",
    "Tak istnieje jedna molekula o takiej nazwie pelnej:<br>\n",
    "<b>Crystal structure of the DNA-binding protein DdrC from Deinococcus radiodurans"
   ]
  },
  {
   "cell_type": "code",
   "execution_count": null,
   "id": "e0491365-40c5-4818-976a-bedf420ebe20",
   "metadata": {},
   "outputs": [],
   "source": []
  }
 ],
 "metadata": {
  "kernelspec": {
   "display_name": "Python 3 (ipykernel)",
   "language": "python",
   "name": "python3"
  },
  "language_info": {
   "codemirror_mode": {
    "name": "ipython",
    "version": 3
   },
   "file_extension": ".py",
   "mimetype": "text/x-python",
   "name": "python",
   "nbconvert_exporter": "python",
   "pygments_lexer": "ipython3",
   "version": "3.11.5"
  }
 },
 "nbformat": 4,
 "nbformat_minor": 5
}
