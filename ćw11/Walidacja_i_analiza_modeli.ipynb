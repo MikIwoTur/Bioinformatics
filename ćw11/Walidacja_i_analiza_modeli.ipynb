{
 "cells": [
  {
   "cell_type": "markdown",
   "id": "fa470c7e",
   "metadata": {},
   "source": [
    "# Nakładanie na siebie struktur, oraz liczenie RMSD"
   ]
  },
  {
   "cell_type": "markdown",
   "id": "e911f17d",
   "metadata": {},
   "source": [
    "W tym cwiczeniu przygotujemy skrpyt który będzie odpowienikiem użycia komend pymol:<br>\n",
    "load data/7qvb_A.pdb<br>\n",
    "load data/af2_pred.pdb<br>\n",
    "pair_fit n. CA and resid 5-158 and m. 7qvb_A and c. A,n. CA and resid 9-162 and m. af2_pred and c. A "
   ]
  },
  {
   "cell_type": "code",
   "execution_count": 55,
   "id": "ea9bf1cc",
   "metadata": {},
   "outputs": [],
   "source": [
    "import numpy as np"
   ]
  },
  {
   "cell_type": "markdown",
   "id": "91723925",
   "metadata": {},
   "source": [
    "<h3> Etap:1/5 Tworzenie parsera </h3><br>\n",
    "<a href=\"https://www.cgl.ucsf.edu/chimera/docs/UsersGuide/tutorials/pdbintro.html\">https://www.cgl.ucsf.edu/chimera/docs/UsersGuide/tutorials/pdbintro.html</a>\n"
   ]
  },
  {
   "cell_type": "raw",
   "id": "0d199f78",
   "metadata": {},
   "source": [
    "You can only use numpy library. Write a function in python that can parse given pdb file. Values in ATOM and HETATM headers are based on position in line. Things that output has to have with their position (number not index) in line:\n",
    "-X 31-38, Y 39-46, Z 47-54 coordinate\n",
    "-atom name 13-16 \n",
    "-Residue sequence number 23-26\n",
    "-Chain identifier 22\n",
    "\n",
    "Here is part of  code that should be written:\n",
    "\n",
    "def parse_pdb_file(file_path):\n",
    "    atom_data = []\n",
    "    \n",
    "    #for iteration through all \"ATOM\" and \"HETATM\" lines\n",
    "    \n",
    "        atom_info = {\n",
    "        'X': x,\n",
    "        'Y': y,\n",
    "        'Z': z,\n",
    "        'AtomName': atom_name,\n",
    "        'ResidueSeqNumber': residue_seq_number,\n",
    "        'ChainID': chain_id\n",
    "        }\n",
    "        #appending atom_info to atom_data list\n",
    "    \n",
    "    return atom_data"
   ]
  },
  {
   "cell_type": "code",
   "execution_count": 56,
   "id": "f04df9f3",
   "metadata": {},
   "outputs": [],
   "source": [
    "import numpy as np\n",
    "\n",
    "def parse_pdb_file(file_path):\n",
    "    atom_data = []\n",
    "    \n",
    "    with open(file_path, 'r') as file:\n",
    "        for line in file:\n",
    "            if line.startswith(('ATOM', 'HETATH')):\n",
    "                x = float(line[30:38].strip())\n",
    "                y = float(line[38:46].strip())\n",
    "                z = float(line[46:54].strip())\n",
    "                atom_name = line[12:16].strip()\n",
    "                residue_seq_number = int(line[22:26].strip())\n",
    "                chain_id = line[21].strip()\n",
    "    \n",
    "        atom_info = {\n",
    "        'X': x,\n",
    "        'Y': y,\n",
    "        'Z': z,\n",
    "        'AtomName': atom_name,\n",
    "        'ResidueSeqNumber': residue_seq_number,\n",
    "        'ChainID': chain_id\n",
    "        }\n",
    "        \n",
    "        atom_data.append(atom_info)\n",
    "    \n",
    "    return atom_data"
   ]
  },
  {
   "cell_type": "code",
   "execution_count": 57,
   "id": "90bbde4f",
   "metadata": {},
   "outputs": [],
   "source": [
    "#wykorzystanie funkcji\n",
    "reference_pdb_path = './data/7qvb_A.pdb'\n",
    "model_pdb_path = './data/af2_pred.pdb'\n",
    "\n",
    "reference_data = parse_pdb_file(reference_pdb_path)\n",
    "model_data = parse_pdb_file(model_pdb_path)"
   ]
  },
  {
   "cell_type": "markdown",
   "id": "8154d9a0",
   "metadata": {},
   "source": [
    "<h3>Etap:2/5 tworzenie filtru danych</h3>"
   ]
  },
  {
   "cell_type": "raw",
   "id": "ac21ce36",
   "metadata": {},
   "source": [
    "Write a function that will take atom_data and filter it based on provided ResidueSeqNumber range in form of list [5,6,7,8,...210], and AtomName equal to CA, the output should be filtered_atom_data.\n",
    "\n",
    "Here is code to finish:\n",
    "def filter_atom_data(atom_data, residue_numbers, atom_name):\n",
    "    filtered_atom_data = []\n",
    "    \n",
    "    #filter\n",
    "    \n",
    "    return filtered_atom_data    "
   ]
  },
  {
   "cell_type": "code",
   "execution_count": 58,
   "id": "ee7e99fd",
   "metadata": {},
   "outputs": [],
   "source": [
    "def filter_atom_dataA(atom_data, residue_numbers, atom_name):\n",
    "    filtered_atom_data = [elem for elem in atom_data if elem[\"AtomName\"] == atom_name and elem[\"ResidueSeqNumber\"] in residue_numbers]\n",
    "    \n",
    "\n",
    "    return filtered_atom_data  "
   ]
  },
  {
   "cell_type": "code",
   "execution_count": 59,
   "id": "ded9f65e",
   "metadata": {},
   "outputs": [],
   "source": [
    "def filter_atom_data(atom_data, residue_numbers, atom_name):\n",
    "    filtered_atom_data = []\n",
    "\n",
    "    for atom_info in atom_data:\n",
    "        if (atom_info['ResidueSeqNumber'] in residue_numbers) and (atom_info['AtomName'] == atom_name):\n",
    "            filtered_atom_data.append(atom_info)\n",
    "\n",
    "    return filtered_atom_data"
   ]
  },
  {
   "cell_type": "code",
   "execution_count": 60,
   "id": "6d2bf9f6",
   "metadata": {},
   "outputs": [
    {
     "name": "stdout",
     "output_type": "stream",
     "text": [
      "0\n",
      "0\n"
     ]
    }
   ],
   "source": [
    "#wykorzystanie funkcji\n",
    "atom_name_to_filter = 'CA'\n",
    "\n",
    "residue_numbers_to_filter = list(range(5,159))\n",
    "filtered_reference_data = filter_atom_data(reference_data, residue_numbers_to_filter, atom_name_to_filter)\n",
    "\n",
    "residue_numbers_to_filter = list(range(9,163))\n",
    "filtered_model_data = filter_atom_data(model_data, residue_numbers_to_filter, atom_name_to_filter)\n",
    "\n",
    "print(len(filtered_reference_data))\n",
    "print(len(filtered_model_data))"
   ]
  },
  {
   "cell_type": "markdown",
   "id": "8abfffa7",
   "metadata": {},
   "source": [
    "<h3> Etap: 3/5 ekstrakcja położeń atomów</h3>"
   ]
  },
  {
   "cell_type": "raw",
   "id": "e9a90c91",
   "metadata": {},
   "source": [
    "create function that will extract xyz positions and return np array in shape of  n_atoms x 3\n",
    "\n",
    "def extract_xyz_positions(atom_data):\n",
    "    #code\n",
    "    \n",
    "    xyz_positions"
   ]
  },
  {
   "cell_type": "code",
   "execution_count": 61,
   "id": "0749ee72",
   "metadata": {},
   "outputs": [],
   "source": [
    "def extract_xyz_positions(atom_data):\n",
    "    xyz_positions = np.array([[atom[\"X\"], atom['Y'], atom[\"Z\"]] for atom in atom_data])\n",
    "    return xyz_positions"
   ]
  },
  {
   "cell_type": "code",
   "execution_count": 62,
   "id": "8bc34630",
   "metadata": {},
   "outputs": [],
   "source": [
    "def extract_xyz_positions(atom_data):\n",
    "    xyz_positions = np.array([[atom_info['X'], atom_info['Y'], atom_info['Z']] for atom_info in atom_data])\n",
    "    return xyz_positions"
   ]
  },
  {
   "cell_type": "code",
   "execution_count": 75,
   "id": "8d76295b",
   "metadata": {},
   "outputs": [
    {
     "name": "stdout",
     "output_type": "stream",
     "text": [
      "[]\n"
     ]
    }
   ],
   "source": [
    "#uzyj kodu\n",
    "filtered_reference_data_xyz = extract_xyz_positions(filtered_reference_data)\n",
    "filtered_model_data_xyz = extract_xyz_positions(filtered_model_data)\n",
    "print(filtered_reference_data_xyz)\n",
    "filtered_reference_data_xyz_own = extract_xyz_positions(filtered_reference_data)\n",
    "filtered_model_data_xyz_own = extract_xyz_positions(filtered_model_data)"
   ]
  },
  {
   "cell_type": "markdown",
   "id": "5bd41314",
   "metadata": {},
   "source": [
    "<h3> Etap 4/5 Nałożenie na siebie struktur</h3><br>\n",
    "Google: Finding optimal rotation and translation between corresponding 3d points python<br>\n",
    "<a href=\"https://nghiaho.com/?page_id=671\">https://nghiaho.com/?page_id=671</a><br>\n",
    "<a href=\"https://jasonblog.github.io/note/math/finding_optimal_rotation_and_translation_between_c.html\">https://jasonblog.github.io/note/math/finding_optimal_rotation_and_translation_between_c.html</a>\n",
    "\n",
    "\n"
   ]
  },
  {
   "cell_type": "raw",
   "id": "eb8ed71e",
   "metadata": {},
   "source": [
    "Based on given input of filtered_reference_data_xyz and filtered_model_data_xyz calculate rotation matrix and translation vector. Do not use other library then numpy.\n",
    "\n",
    "def align_coordinates(xyz_A, xyz_positions_B):\n",
    "\n",
    "    #code\n",
    "    \n",
    "    return R,t "
   ]
  },
  {
   "cell_type": "code",
   "execution_count": 64,
   "id": "13db7ced",
   "metadata": {},
   "outputs": [],
   "source": [
    "def align_coordinates(xyz_A, xyz_positions_B):\n",
    "    assert len(xyz_A) == len(xyz_positions_B)\n",
    "\n",
    "    N = xyz_A.shape[0]  # total points\n",
    "\n",
    "    centroid_A = np.mean(xyz_A, axis=0)\n",
    "    centroid_B = np.mean(xyz_positions_B, axis=0)\n",
    "\n",
    "    # center the points\n",
    "    AA = xyz_A - np.tile(centroid_A, (N, 1))\n",
    "    BB =  xyz_positions_B - np.tile(centroid_B, (N, 1))\n",
    "\n",
    "    # dot is matrix multiplication for array\n",
    "    H = np.transpose(AA) @ BB\n",
    "\n",
    "    U, S, Vt = np.linalg.svd(H)\n",
    "\n",
    "    R = Vt.T @ U.T\n",
    "\n",
    "    # special reflection case\n",
    "    if np.linalg.det(R) < 0:\n",
    "        print(\"Reflection detected\")\n",
    "        Vt[2, :] *= -1\n",
    "        R = Vt.T @ U.T\n",
    "\n",
    "    t = -R @ centroid_A.T + centroid_B.T\n",
    "\n",
    "    print(t)\n",
    "\n",
    "    return R, t"
   ]
  },
  {
   "cell_type": "code",
   "execution_count": null,
   "id": "dd7dbaef",
   "metadata": {},
   "outputs": [
    {
     "ename": "ValueError",
     "evalue": "matmul: Input operand 1 does not have enough dimensions (has 0, gufunc core with signature (n?,k),(k,m?)->(n?,m?) requires 1)",
     "output_type": "error",
     "traceback": [
      "\u001b[0;31m---------------------------------------------------------------------------\u001b[0m",
      "\u001b[0;31mValueError\u001b[0m                                Traceback (most recent call last)",
      "\u001b[1;32m/Users/mikolajturczyniak/Downloads/cw11/Walidacja_i_analiza_modeli.ipynb Komórka 21\u001b[0m line \u001b[0;36m2\n\u001b[1;32m      <a href='vscode-notebook-cell:/Users/mikolajturczyniak/Downloads/cw11/Walidacja_i_analiza_modeli.ipynb#X24sZmlsZQ%3D%3D?line=0'>1</a>\u001b[0m \u001b[39m#użeyj kodu\u001b[39;00m\n\u001b[0;32m----> <a href='vscode-notebook-cell:/Users/mikolajturczyniak/Downloads/cw11/Walidacja_i_analiza_modeli.ipynb#X24sZmlsZQ%3D%3D?line=1'>2</a>\u001b[0m R,t\u001b[39m=\u001b[39malign_coordinates( filtered_model_data_xyz,filtered_reference_data_xyz)\n\u001b[1;32m      <a href='vscode-notebook-cell:/Users/mikolajturczyniak/Downloads/cw11/Walidacja_i_analiza_modeli.ipynb#X24sZmlsZQ%3D%3D?line=2'>3</a>\u001b[0m filtered_model_data_xyz_fitted\u001b[39m=\u001b[39mfiltered_model_data_xyz\u001b[39m@R\u001b[39m\u001b[39m.\u001b[39mT\u001b[39m+\u001b[39mt\n\u001b[1;32m      <a href='vscode-notebook-cell:/Users/mikolajturczyniak/Downloads/cw11/Walidacja_i_analiza_modeli.ipynb#X24sZmlsZQ%3D%3D?line=3'>4</a>\u001b[0m \u001b[39mprint\u001b[39m(filtered_model_data_xyz_fitted)\n",
      "\u001b[1;32m/Users/mikolajturczyniak/Downloads/cw11/Walidacja_i_analiza_modeli.ipynb Komórka 21\u001b[0m line \u001b[0;36m2\n\u001b[1;32m     <a href='vscode-notebook-cell:/Users/mikolajturczyniak/Downloads/cw11/Walidacja_i_analiza_modeli.ipynb#X24sZmlsZQ%3D%3D?line=22'>23</a>\u001b[0m     Vt[\u001b[39m2\u001b[39m, :] \u001b[39m*\u001b[39m\u001b[39m=\u001b[39m \u001b[39m-\u001b[39m\u001b[39m1\u001b[39m\n\u001b[1;32m     <a href='vscode-notebook-cell:/Users/mikolajturczyniak/Downloads/cw11/Walidacja_i_analiza_modeli.ipynb#X24sZmlsZQ%3D%3D?line=23'>24</a>\u001b[0m     R \u001b[39m=\u001b[39m Vt\u001b[39m.\u001b[39mT \u001b[39m@\u001b[39m U\u001b[39m.\u001b[39mT\n\u001b[0;32m---> <a href='vscode-notebook-cell:/Users/mikolajturczyniak/Downloads/cw11/Walidacja_i_analiza_modeli.ipynb#X24sZmlsZQ%3D%3D?line=25'>26</a>\u001b[0m t \u001b[39m=\u001b[39m \u001b[39m-\u001b[39;49mR \u001b[39m@\u001b[39;49m centroid_A\u001b[39m.\u001b[39;49mT \u001b[39m+\u001b[39m centroid_B\u001b[39m.\u001b[39mT\n\u001b[1;32m     <a href='vscode-notebook-cell:/Users/mikolajturczyniak/Downloads/cw11/Walidacja_i_analiza_modeli.ipynb#X24sZmlsZQ%3D%3D?line=27'>28</a>\u001b[0m \u001b[39mprint\u001b[39m(t)\n\u001b[1;32m     <a href='vscode-notebook-cell:/Users/mikolajturczyniak/Downloads/cw11/Walidacja_i_analiza_modeli.ipynb#X24sZmlsZQ%3D%3D?line=29'>30</a>\u001b[0m \u001b[39mreturn\u001b[39;00m R, t\n",
      "\u001b[0;31mValueError\u001b[0m: matmul: Input operand 1 does not have enough dimensions (has 0, gufunc core with signature (n?,k),(k,m?)->(n?,m?) requires 1)"
     ]
    }
   ],
   "source": [
    "#użeyj kodu\n",
    "R,t=align_coordinates( filtered_model_data_xyz,filtered_reference_data_xyz)\n",
    "filtered_model_data_xyz_fitted=filtered_model_data_xyz@R.T+t\n",
    "print(filtered_model_data_xyz_fitted)"
   ]
  },
  {
   "cell_type": "markdown",
   "id": "d8a552ee",
   "metadata": {},
   "source": [
    "<h3> 5/5 Obliczanie RMSD</h3>"
   ]
  },
  {
   "cell_type": "raw",
   "id": "8ee9e463",
   "metadata": {},
   "source": [
    "create function to calculate rmsd\n",
    "\n",
    "def calculate_rmsd(xyz_positions_reference, xyz_positions_model):\n",
    "    \n",
    "    #code\n",
    "    \n",
    "    return rmsd"
   ]
  },
  {
   "cell_type": "code",
   "execution_count": 67,
   "id": "d36f61ee",
   "metadata": {},
   "outputs": [],
   "source": [
    "def calculate_rmsd(xyz_positions_reference, xyz_positions_model):\n",
    "    \n",
    "    diff = np.sum(np.square(xyz_positions_reference - xyz_positions_model), axis=1)\n",
    "    mean = np.mean(diff)\n",
    "    rmsd = np.sqrt(mean)\n",
    "    \n",
    "    return rmsd"
   ]
  },
  {
   "cell_type": "code",
   "execution_count": null,
   "id": "bbcdb331",
   "metadata": {},
   "outputs": [
    {
     "ename": "AxisError",
     "evalue": "axis 1 is out of bounds for array of dimension 1",
     "output_type": "error",
     "traceback": [
      "\u001b[0;31m---------------------------------------------------------------------------\u001b[0m",
      "\u001b[0;31mAxisError\u001b[0m                                 Traceback (most recent call last)",
      "\u001b[1;32m/Users/mikolajturczyniak/Downloads/cw11/Walidacja_i_analiza_modeli.ipynb Komórka 25\u001b[0m line \u001b[0;36m1\n\u001b[0;32m----> <a href='vscode-notebook-cell:/Users/mikolajturczyniak/Downloads/cw11/Walidacja_i_analiza_modeli.ipynb#X31sZmlsZQ%3D%3D?line=0'>1</a>\u001b[0m \u001b[39mprint\u001b[39m(\u001b[39mf\u001b[39m\u001b[39m\"\u001b[39m\u001b[39mRMSD pre fit: \u001b[39m\u001b[39m{\u001b[39;00mcalculate_rmsd(filtered_reference_data_xyz,\u001b[39m \u001b[39;49mfiltered_model_data_xyz)\u001b[39m}\u001b[39;00m\u001b[39m\"\u001b[39m) \n\u001b[1;32m      <a href='vscode-notebook-cell:/Users/mikolajturczyniak/Downloads/cw11/Walidacja_i_analiza_modeli.ipynb#X31sZmlsZQ%3D%3D?line=1'>2</a>\u001b[0m \u001b[39mprint\u001b[39m(\u001b[39mf\u001b[39m\u001b[39m\"\u001b[39m\u001b[39mRMSD post fit: \u001b[39m\u001b[39m{\u001b[39;00mcalculate_rmsd(filtered_reference_data_xyz,\u001b[39m \u001b[39mfiltered_model_data_xyz_fitted)\u001b[39m}\u001b[39;00m\u001b[39m\"\u001b[39m) \n",
      "\u001b[1;32m/Users/mikolajturczyniak/Downloads/cw11/Walidacja_i_analiza_modeli.ipynb Komórka 25\u001b[0m line \u001b[0;36m3\n\u001b[1;32m      <a href='vscode-notebook-cell:/Users/mikolajturczyniak/Downloads/cw11/Walidacja_i_analiza_modeli.ipynb#X31sZmlsZQ%3D%3D?line=0'>1</a>\u001b[0m \u001b[39mdef\u001b[39;00m \u001b[39mcalculate_rmsd\u001b[39m(xyz_positions_reference, xyz_positions_model):\n\u001b[0;32m----> <a href='vscode-notebook-cell:/Users/mikolajturczyniak/Downloads/cw11/Walidacja_i_analiza_modeli.ipynb#X31sZmlsZQ%3D%3D?line=2'>3</a>\u001b[0m     diff \u001b[39m=\u001b[39m np\u001b[39m.\u001b[39;49msum(np\u001b[39m.\u001b[39;49msquare(xyz_positions_reference \u001b[39m-\u001b[39;49m xyz_positions_model), axis\u001b[39m=\u001b[39;49m\u001b[39m1\u001b[39;49m)\n\u001b[1;32m      <a href='vscode-notebook-cell:/Users/mikolajturczyniak/Downloads/cw11/Walidacja_i_analiza_modeli.ipynb#X31sZmlsZQ%3D%3D?line=3'>4</a>\u001b[0m     mean \u001b[39m=\u001b[39m np\u001b[39m.\u001b[39mmean(diff)\n\u001b[1;32m      <a href='vscode-notebook-cell:/Users/mikolajturczyniak/Downloads/cw11/Walidacja_i_analiza_modeli.ipynb#X31sZmlsZQ%3D%3D?line=4'>5</a>\u001b[0m     rmsd \u001b[39m=\u001b[39m np\u001b[39m.\u001b[39msqrt(mean)\n",
      "File \u001b[0;32m/Library/Frameworks/Python.framework/Versions/3.11/lib/python3.11/site-packages/numpy/core/fromnumeric.py:2313\u001b[0m, in \u001b[0;36msum\u001b[0;34m(a, axis, dtype, out, keepdims, initial, where)\u001b[0m\n\u001b[1;32m   2310\u001b[0m         \u001b[39mreturn\u001b[39;00m out\n\u001b[1;32m   2311\u001b[0m     \u001b[39mreturn\u001b[39;00m res\n\u001b[0;32m-> 2313\u001b[0m \u001b[39mreturn\u001b[39;00m _wrapreduction(a, np\u001b[39m.\u001b[39;49madd, \u001b[39m'\u001b[39;49m\u001b[39msum\u001b[39;49m\u001b[39m'\u001b[39;49m, axis, dtype, out, keepdims\u001b[39m=\u001b[39;49mkeepdims,\n\u001b[1;32m   2314\u001b[0m                       initial\u001b[39m=\u001b[39;49minitial, where\u001b[39m=\u001b[39;49mwhere)\n",
      "File \u001b[0;32m/Library/Frameworks/Python.framework/Versions/3.11/lib/python3.11/site-packages/numpy/core/fromnumeric.py:88\u001b[0m, in \u001b[0;36m_wrapreduction\u001b[0;34m(obj, ufunc, method, axis, dtype, out, **kwargs)\u001b[0m\n\u001b[1;32m     85\u001b[0m         \u001b[39melse\u001b[39;00m:\n\u001b[1;32m     86\u001b[0m             \u001b[39mreturn\u001b[39;00m reduction(axis\u001b[39m=\u001b[39maxis, out\u001b[39m=\u001b[39mout, \u001b[39m*\u001b[39m\u001b[39m*\u001b[39mpasskwargs)\n\u001b[0;32m---> 88\u001b[0m \u001b[39mreturn\u001b[39;00m ufunc\u001b[39m.\u001b[39;49mreduce(obj, axis, dtype, out, \u001b[39m*\u001b[39;49m\u001b[39m*\u001b[39;49mpasskwargs)\n",
      "\u001b[0;31mAxisError\u001b[0m: axis 1 is out of bounds for array of dimension 1"
     ]
    }
   ],
   "source": [
    "print(f\"RMSD pre fit: {calculate_rmsd(filtered_reference_data_xyz, filtered_model_data_xyz)}\") \n",
    "print(f\"RMSD post fit: {calculate_rmsd(filtered_reference_data_xyz, filtered_model_data_xyz_fitted)}\") "
   ]
  },
  {
   "cell_type": "markdown",
   "id": "d6f5f794",
   "metadata": {},
   "source": [
    "# Obliczanie GDT_TS przy pomocy biblioteki pymol"
   ]
  },
  {
   "cell_type": "raw",
   "id": "7240840d",
   "metadata": {},
   "source": [
    "GDT_TS - GlobalDistanceTest_TotalScore\n",
    "GDT_TS = (GDT_P1 + GDT_P2 + GDT_P4 + GDT_P8)/4,\n",
    "where GDT_Pn denotes percent of residues under distance cutoff <= nÅ "
   ]
  },
  {
   "cell_type": "code",
   "execution_count": 77,
   "id": "949b51fc",
   "metadata": {},
   "outputs": [
    {
     "name": "stdout",
     "output_type": "stream",
     "text": [
      "2868.21s - pydevd: Sending message related to process being replaced timed-out after 5 seconds\n",
      "\u001b[33mWARNING: There was an error checking the latest version of pip.\u001b[0m\u001b[33m\n",
      "\u001b[0m"
     ]
    }
   ],
   "source": [
    "!pip install -q condacolab"
   ]
  },
  {
   "cell_type": "code",
   "execution_count": 76,
   "id": "44123ed0",
   "metadata": {},
   "outputs": [
    {
     "ename": "ModuleNotFoundError",
     "evalue": "No module named 'condacolab'",
     "output_type": "error",
     "traceback": [
      "\u001b[0;31m---------------------------------------------------------------------------\u001b[0m",
      "\u001b[0;31mModuleNotFoundError\u001b[0m                       Traceback (most recent call last)",
      "\u001b[1;32m/Users/mikolajturczyniak/Downloads/cw11/Walidacja_i_analiza_modeli.ipynb Komórka 29\u001b[0m line \u001b[0;36m1\n\u001b[0;32m----> <a href='vscode-notebook-cell:/Users/mikolajturczyniak/Downloads/cw11/Walidacja_i_analiza_modeli.ipynb#X61sZmlsZQ%3D%3D?line=0'>1</a>\u001b[0m \u001b[39mimport\u001b[39;00m \u001b[39mcondacolab\u001b[39;00m\n\u001b[1;32m      <a href='vscode-notebook-cell:/Users/mikolajturczyniak/Downloads/cw11/Walidacja_i_analiza_modeli.ipynb#X61sZmlsZQ%3D%3D?line=1'>2</a>\u001b[0m condacolab\u001b[39m.\u001b[39minstall()\n",
      "\u001b[0;31mModuleNotFoundError\u001b[0m: No module named 'condacolab'"
     ]
    }
   ],
   "source": [
    "import condacolab\n",
    "condacolab.install()"
   ]
  },
  {
   "cell_type": "code",
   "execution_count": 72,
   "id": "ba23f2a9",
   "metadata": {},
   "outputs": [
    {
     "name": "stdout",
     "output_type": "stream",
     "text": [
      "2284.96s - pydevd: Sending message related to process being replaced timed-out after 5 seconds\n",
      "sed: 1: \"/usr/local/conda-meta/p ...\": extra characters at the end of l command\n"
     ]
    }
   ],
   "source": [
    "!sed -i '/cudatoolkit/d' /usr/local/conda-meta/pinned"
   ]
  },
  {
   "cell_type": "code",
   "execution_count": 73,
   "id": "59ff3bfd",
   "metadata": {},
   "outputs": [
    {
     "name": "stdout",
     "output_type": "stream",
     "text": [
      "2293.74s - pydevd: Sending message related to process being replaced timed-out after 5 seconds\n",
      "Retrieving notices: ...working... done\n",
      "Channels:\n",
      " - salilab\n",
      " - conda-forge\n",
      " - bioconda\n",
      " - defaults\n",
      "Platform: osx-arm64\n",
      "Collecting package metadata (repodata.json): done\n",
      "Solving environment: done\n",
      "\n",
      "## Package Plan ##\n",
      "\n",
      "  environment location: /Users/mikolajturczyniak/anaconda3\n",
      "\n",
      "  added / updated specs:\n",
      "    - conda-forge::pymol-open-source\n",
      "\n",
      "\n",
      "The following packages will be downloaded:\n",
      "\n",
      "    package                    |            build\n",
      "    ---------------------------|-----------------\n",
      "    blosc-1.21.5               |       hc338f07_0          33 KB  conda-forge\n",
      "    cached-property-1.5.2      |       hd8ed1ab_1           4 KB  conda-forge\n",
      "    cached_property-1.5.2      |     pyha770c72_1          11 KB  conda-forge\n",
      "    curl-8.5.0                 |       h02f6b3c_0          79 KB\n",
      "    fmt-10.1.1                 |       h2ffa867_1         168 KB  conda-forge\n",
      "    gettext-0.21.1             |       h0186832_0         3.8 MB  conda-forge\n",
      "    glew-2.1.0                 |       h9f76cd9_2         765 KB  conda-forge\n",
      "    glm-0.9.9.8                |       h1995070_0         212 KB  conda-forge\n",
      "    h5py-3.10.0                |nompi_py311hd00467f_101         1.0 MB  conda-forge\n",
      "    hdf4-4.2.15                |       h1a38d6a_5         926 KB  conda-forge\n",
      "    hdf5-1.14.3                |nompi_h5bb55e9_100         3.3 MB  conda-forge\n",
      "    icu-73.2                   |       hc8870d7_0        11.4 MB  conda-forge\n",
      "    libaec-1.1.2               |       h13dd4ca_1          28 KB  conda-forge\n",
      "    libarchive-3.7.2           |       hcacb583_1         765 KB  conda-forge\n",
      "    libcurl-8.5.0              |       h3e2b118_0         356 KB\n",
      "    libcxx-16.0.6              |       h4653b0c_0         1.1 MB  conda-forge\n",
      "    libiconv-1.17              |       h0d3ecfb_2         661 KB  conda-forge\n",
      "    libmamba-1.5.6             |       h90c426b_0         1.1 MB  conda-forge\n",
      "    libmambapy-1.5.6           |  py311h26e1311_0         243 KB  conda-forge\n",
      "    libnetcdf-4.9.2            |nompi_h291a7c2_113         666 KB  conda-forge\n",
      "    libxml2-2.12.3             |       h0d0cfa8_0         573 KB  conda-forge\n",
      "    libxslt-1.1.39             |       h223e5b9_0         220 KB  conda-forge\n",
      "    libzip-1.10.1              |       ha0bc3c6_3         125 KB  conda-forge\n",
      "    lxml-5.1.0                 |  py311h85df328_0         1.2 MB  conda-forge\n",
      "    pmw-2.0.1                  |py311h267d04e_1008         628 KB  conda-forge\n",
      "    pymol-open-source-2.5.0    |  py311hf439787_6         5.9 MB  conda-forge\n",
      "    pytables-3.9.1             |  py311hce229b4_0         1.6 MB  conda-forge\n",
      "    ------------------------------------------------------------\n",
      "                                           Total:        36.9 MB\n",
      "\n",
      "The following NEW packages will be INSTALLED:\n",
      "\n",
      "  cached-property    conda-forge/noarch::cached-property-1.5.2-hd8ed1ab_1 \n",
      "  cached_property    conda-forge/noarch::cached_property-1.5.2-pyha770c72_1 \n",
      "  glew               conda-forge/osx-arm64::glew-2.1.0-h9f76cd9_2 \n",
      "  glm                conda-forge/osx-arm64::glm-0.9.9.8-h1995070_0 \n",
      "  hdf4               conda-forge/osx-arm64::hdf4-4.2.15-h1a38d6a_5 \n",
      "  libnetcdf          conda-forge/osx-arm64::libnetcdf-4.9.2-nompi_h291a7c2_113 \n",
      "  libzip             conda-forge/osx-arm64::libzip-1.10.1-ha0bc3c6_3 \n",
      "  pmw                conda-forge/osx-arm64::pmw-2.0.1-py311h267d04e_1008 \n",
      "  pymol-open-source  conda-forge/osx-arm64::pymol-open-source-2.5.0-py311hf439787_6 \n",
      "\n",
      "The following packages will be UPDATED:\n",
      "\n",
      "  blosc                  pkgs/main::blosc-1.21.3-h313beb8_0 --> conda-forge::blosc-1.21.5-hc338f07_0 \n",
      "  curl                                     8.4.0-h02f6b3c_1 --> 8.5.0-h02f6b3c_0 \n",
      "  fmt                       pkgs/main::fmt-9.1.0-h48ca7d4_0 --> conda-forge::fmt-10.1.1-h2ffa867_1 \n",
      "  gettext              pkgs/main::gettext-0.21.0-h13f89a0_1 --> conda-forge::gettext-0.21.1-h0186832_0 \n",
      "  h5py                pkgs/main::h5py-3.9.0-py311hba6ad2f_0 --> conda-forge::h5py-3.10.0-nompi_py311hd00467f_101 \n",
      "  hdf5                    pkgs/main::hdf5-1.12.1-h05c076b_3 --> conda-forge::hdf5-1.14.3-nompi_h5bb55e9_100 \n",
      "  icu                        pkgs/main::icu-73.1-h313beb8_0 --> conda-forge::icu-73.2-hc8870d7_0 \n",
      "  libaec                 pkgs/main::libaec-1.0.4-hc377ac9_1 --> conda-forge::libaec-1.1.2-h13dd4ca_1 \n",
      "  libarchive         pkgs/main::libarchive-3.6.2-h62fee54_2 --> conda-forge::libarchive-3.7.2-hcacb583_1 \n",
      "  libcurl                                  8.4.0-h3e2b118_1 --> 8.5.0-h3e2b118_0 \n",
      "  libcxx                pkgs/main::libcxx-14.0.6-h848a8c0_0 --> conda-forge::libcxx-16.0.6-h4653b0c_0 \n",
      "  libiconv              pkgs/main::libiconv-1.16-h1a28f6b_2 --> conda-forge::libiconv-1.17-h0d3ecfb_2 \n",
      "  libmamba             pkgs/main::libmamba-1.5.3-h15e39b3_0 --> conda-forge::libmamba-1.5.6-h90c426b_0 \n",
      "  libmambapy         pkgs/main::libmambapy-1.5.3-py311h1c5~ --> conda-forge::libmambapy-1.5.6-py311h26e1311_0 \n",
      "  libxml2              pkgs/main::libxml2-2.10.4-h0dcf63f_1 --> conda-forge::libxml2-2.12.3-h0d0cfa8_0 \n",
      "  libxslt              pkgs/main::libxslt-1.1.37-h80987f9_1 --> conda-forge::libxslt-1.1.39-h223e5b9_0 \n",
      "  lxml                pkgs/main::lxml-4.9.3-py311h50ffb84_0 --> conda-forge::lxml-5.1.0-py311h85df328_0 \n",
      "  pytables           pkgs/main::pytables-3.8.0-py311he080b~ --> conda-forge::pytables-3.9.1-py311hce229b4_0 \n",
      "\n",
      "\n",
      "Proceed ([y]/n)? ^C\n",
      "\n",
      "CondaSystemExit: \n",
      "Operation aborted.  Exiting.\n",
      "\n"
     ]
    }
   ],
   "source": [
    "!conda install conda-forge::pymol-open-source\n",
    "#https://pymolwiki.org/index.php/Main_Page"
   ]
  },
  {
   "cell_type": "code",
   "execution_count": 79,
   "id": "8521debb",
   "metadata": {},
   "outputs": [
    {
     "ename": "ModuleNotFoundError",
     "evalue": "No module named 'pymol'",
     "output_type": "error",
     "traceback": [
      "\u001b[0;31m---------------------------------------------------------------------------\u001b[0m",
      "\u001b[0;31mModuleNotFoundError\u001b[0m                       Traceback (most recent call last)",
      "\u001b[1;32m/Users/mikolajturczyniak/Downloads/cw11/Walidacja_i_analiza_modeli.ipynb Komórka 32\u001b[0m line \u001b[0;36m1\n\u001b[0;32m----> <a href='vscode-notebook-cell:/Users/mikolajturczyniak/Downloads/cw11/Walidacja_i_analiza_modeli.ipynb#X64sZmlsZQ%3D%3D?line=0'>1</a>\u001b[0m \u001b[39mimport\u001b[39;00m \u001b[39mpymol\u001b[39;00m\n",
      "\u001b[0;31mModuleNotFoundError\u001b[0m: No module named 'pymol'"
     ]
    }
   ],
   "source": [
    "import pymol"
   ]
  },
  {
   "cell_type": "code",
   "execution_count": null,
   "id": "7de052df",
   "metadata": {},
   "outputs": [
    {
     "name": "stdout",
     "output_type": "stream",
     "text": [
      " ExecutiveRMSPairs: RMSD =    1.802 (208 to 208 atoms)\n",
      "33.17307692307692 86.53846153846155 99.03846153846155 99.03846153846155\n",
      "GDT_TS wynosi: 79.45%\n"
     ]
    }
   ],
   "source": [
    "#zaczynanie od poczatku\n",
    "pymol.cmd.delete('all')\n",
    "\n",
    "#otwieranie struktur\n",
    "pymol.cmd.load('7qvb_A.pdb', object=\"reference\")\n",
    "# pymol.cmd.load('af2_pred.pdb', object=\"model_\")\n",
    "pymol.cmd.load('I-TASSER_exclude.pdb', object=\"model_\")\n",
    "# pymol.cmd.load('I-TASSER_100ident.pdb', object=\"model_\")\n",
    "\n",
    "#dopasowanie af2_pred do 7qvb_A\n",
    "rmsd=pymol.cmd.pair_fit(\"n. CA and resid 9-162+173-226 and m. model_ and c. A\",\n",
    "                  \"n. CA and resid 5-158+169-222 and m. reference and c. A and not alt B\")\n",
    "\n",
    "\n",
    "\n",
    "\n",
    "#stwórz pętle po resids z model_resids oraz reference_resids, a następnie oblicz dystans za pomoca get_distance\n",
    "#pomiedzy atomami CA\n",
    "model_resids=list(range(9,163))+list(range(173,227))\n",
    "reference_resids=list(range(5,159))+list(range(169,223))\n",
    "n_1=0\n",
    "n_2=0\n",
    "n_4=0\n",
    "n_8=0\n",
    "n_total=len(reference_resids)\n",
    "#petla\n",
    "for resid_model, resid_ref in zip(model_resids, reference_resids):\n",
    "    atom1=f\"n. CA and resid {resid_model} and m. model_ and c. A\"\n",
    "    atom2=f\"n. CA and resid {resid_ref} and m. reference and c. A and not alt B\"\n",
    "    distance=pymol.cmd.get_distance(atom1=atom1, atom2=atom2)\n",
    "\n",
    "    if distance <= 1: n_1 += 1\n",
    "\n",
    "    if distance <= 2: n_2 += 1\n",
    "\n",
    "    if distance <= 4: n_4 += 1\n",
    "\n",
    "    if distance <= 8: n_8 += 1\n",
    "\n",
    "    #sprawdz czy odpowiadajace sobie atomy (atom1 oraz atom2) spełniaja pierwsza kategorie -> dystans mniejszy od 1\n",
    "    # jesli tak podnies o 1 licznik n_1\n",
    "    #itd\n",
    "\n",
    "#Oblicz GDT_P1, GDT_P2,GDT_P4,GDT_P8\n",
    "GDT_P1 = n_1 / n_total * 100\n",
    "GDT_P2 = n_2 / n_total * 100\n",
    "GDT_P4 = n_4 / n_total * 100\n",
    "GDT_P8 = n_8 / n_total * 100\n",
    "# GDT_TS - GlobalDistanceTest_TotalScore\n",
    "GDT_TS = (GDT_P1 + GDT_P2 + GDT_P4 + GDT_P8)/4\n",
    "#Oblicz GDT_TS"
   ]
  },
  {
   "cell_type": "code",
   "execution_count": 74,
   "id": "eadae153-f301-4577-8a48-bfc83e82416d",
   "metadata": {},
   "outputs": [
    {
     "ename": "NameError",
     "evalue": "name 'GDT_P1' is not defined",
     "output_type": "error",
     "traceback": [
      "\u001b[0;31m---------------------------------------------------------------------------\u001b[0m",
      "\u001b[0;31mNameError\u001b[0m                                 Traceback (most recent call last)",
      "\u001b[1;32m/Users/mikolajturczyniak/Downloads/cw11/Walidacja_i_analiza_modeli.ipynb Komórka 34\u001b[0m line \u001b[0;36m1\n\u001b[0;32m----> <a href='vscode-notebook-cell:/Users/mikolajturczyniak/Downloads/cw11/Walidacja_i_analiza_modeli.ipynb#X36sZmlsZQ%3D%3D?line=0'>1</a>\u001b[0m \u001b[39mprint\u001b[39m(GDT_P1,GDT_P2,GDT_P4,GDT_P8)\n\u001b[1;32m      <a href='vscode-notebook-cell:/Users/mikolajturczyniak/Downloads/cw11/Walidacja_i_analiza_modeli.ipynb#X36sZmlsZQ%3D%3D?line=1'>2</a>\u001b[0m \u001b[39mprint\u001b[39m(\u001b[39m\"\u001b[39m\u001b[39mGDT_TS wynosi: \u001b[39m\u001b[39m%.2f\u001b[39;00m\u001b[39m%%\u001b[39;00m\u001b[39m\"\u001b[39m \u001b[39m%\u001b[39m GDT_TS)\n",
      "\u001b[0;31mNameError\u001b[0m: name 'GDT_P1' is not defined"
     ]
    }
   ],
   "source": [
    "print(GDT_P1,GDT_P2,GDT_P4,GDT_P8)\n",
    "print(\"GDT_TS wynosi: %.2f%%\" % GDT_TS)"
   ]
  },
  {
   "cell_type": "raw",
   "id": "3d0785a4",
   "metadata": {},
   "source": [
    "Zakomentuj 6. linijke kodu i odkomentuj poszczegolne struktury z I-TASSERA i sprawdz wyniki"
   ]
  },
  {
   "cell_type": "markdown",
   "id": "fb0d9725",
   "metadata": {},
   "source": [
    "<h2>TM-SCORE</h2>"
   ]
  },
  {
   "cell_type": "markdown",
   "id": "9ddf120c",
   "metadata": {},
   "source": [
    "Proszę wejść na stronę:<br>\n",
    "<a href=\"https://zhanggroup.org/TM-score/\">https://zhanggroup.org/TM-score/</a>\n",
    "\n",
    "Jako model spróbować użyć:\n",
    "1. data/af2_pred_truncated_aligned.pdb\n",
    "2. data/I-TASSER_exclude_truncated_aligned.pdb\n",
    "3. I-TASSER_100ident_truncated_aligned.pdb\n",
    "\n",
    "Jako strukturę eksperymentalną:\n",
    "data/7qvb_A.pdb"
   ]
  },
  {
   "cell_type": "raw",
   "id": "66bc2c6d",
   "metadata": {},
   "source": [
    "                       RMSD      TM-SCORE       GDT_TS             \n",
    "af2                     1,57        0,9166         0,8178\n",
    "I-TASSER_exclude        2,53        0,3340         0,2418\n",
    "I-TASSER_100ident       0,45        0,9937         0,9942"
   ]
  },
  {
   "cell_type": "markdown",
   "id": "852a6255",
   "metadata": {},
   "source": [
    "<h2>Verify 3D</h2>"
   ]
  },
  {
   "cell_type": "markdown",
   "id": "034643b8",
   "metadata": {},
   "source": [
    "Wejdź na stronę Verify3D:<br>\n",
    "<a href=\"https://www.doe-mbi.ucla.edu/verify3d/\">https://www.doe-mbi.ucla.edu/verify3d/</a>    <br><br>\n",
    "A następnie:<br>\n",
    "-uruchom program dla naszej referncji-struktury eksperymentalnej<br>\n",
    "data/7qvb_A.pdb<br>\n",
    "-uruchom program dla modelu z alphafold2<br>\n",
    "data/af2_pred.pdb<br>\n",
    "-uruchom program dla modelu z serwera I-TASSER<br>\n",
    "data/I-TASSER_exclude.pdb<br>"
   ]
  },
  {
   "cell_type": "raw",
   "id": "53dd138f",
   "metadata": {},
   "source": [
    "X % of the residues have\n",
    "averaged 3D-1D score >= 0.1\n",
    "\n",
    "1. wynik dla 7qvb_A.pdb (referencja)               :  77,10 %\n",
    "2. wynik dla af2_pred.pdb (model af2)              :  71,91 %\n",
    "3. wynik dla I-TASSER_exclude.pdb (model I-TASSER) :  52,34 %"
   ]
  },
  {
   "cell_type": "markdown",
   "id": "3788ee73",
   "metadata": {},
   "source": [
    "Dla wyników z af2 nacisnij na przycisk \"Save to data file\" a nastepnie dla tego zestawu danych wygeneruj podobny<br>\n",
    "wykres do tego z strony verify3D"
   ]
  },
  {
   "cell_type": "code",
   "execution_count": 2,
   "id": "79b98686",
   "metadata": {},
   "outputs": [],
   "source": [
    "from matplotlib import pyplot as plt\n",
    "import numpy as np"
   ]
  },
  {
   "cell_type": "code",
   "execution_count": 9,
   "id": "14fd921b",
   "metadata": {},
   "outputs": [
    {
     "data": {
      "image/png": "[encoded data removed]",
      "text/plain": [
       "<Figure size 1400x700 with 1 Axes>"
      ]
     },
     "metadata": {},
     "output_type": "display_data"
    }
   ],
   "source": [
    "from matplotlib import pyplot as plt\n",
    "\n",
    "with open(\"./af2.txt\", \"r\", encoding=\"utf-8\") as f:\n",
    "    data = f.readlines()[1:]\n",
    "    result = []\n",
    "    for rows in data:\n",
    "        rows = rows.replace(\"\\n\", \"\")\n",
    "        columns = rows.split(\"\\t\")\n",
    "        joined_row = \":\".join(columns[:2])\n",
    "        rest_of_elements = columns[2:]\n",
    "        result.append((joined_row, rest_of_elements))\n",
    "\n",
    "positions = [item[0] for item in result[1:]]\n",
    "raw_scores = [float(item[1][0]) for item in result[1:]]\n",
    "average_scores = [float(item[1][1]) for item in result[1:]]\n",
    "\n",
    "average_average = sum(average_scores) / len(average_scores)\n",
    "plt.figure(figsize=(14, 7))\n",
    "plt.axhline(y=average_average, color=\"yellow\", linestyle=\"-\")\n",
    "raw_score_plot = plt.scatter(\n",
    "    positions,\n",
    "    raw_scores,\n",
    "    color=\"yellowgreen\",\n",
    "    marker=\"o\",\n",
    "    edgecolors=\"green\",\n",
    "    s=10,\n",
    "    label=\"Raw Score\",\n",
    ")\n",
    "average_score_plot = plt.plot(\n",
    "    positions, average_scores, color=\"navy\", linestyle=\"-\", label=\"Average Score\"\n",
    ")\n",
    "plt.title(\"af2_pred.pdb Chain 1\", color=\"dimgray\", fontsize=14)\n",
    "plt.xticks(positions[::7], positions[::7], rotation=45)\n",
    "plt.grid()\n",
    "plt.ylim(-1.5, 2)\n",
    "plt.xlim(left=0)\n",
    "plt.legend(loc=\"upper center\", bbox_to_anchor=(0.5, 1), ncol=3)\n",
    "plt.show()\n"
   ]
  },
  {
   "cell_type": "code",
   "execution_count": null,
   "id": "22d7cd3f",
   "metadata": {},
   "outputs": [],
   "source": []
  }
 ],
 "metadata": {
  "kernelspec": {
   "display_name": "Python 3 (ipykernel)",
   "language": "python",
   "name": "python3"
  },
  "language_info": {
   "codemirror_mode": {
    "name": "ipython",
    "version": 3
   },
   "file_extension": ".py",
   "mimetype": "text/x-python",
   "name": "python",
   "nbconvert_exporter": "python",
   "pygments_lexer": "ipython3",
   "version": "3.11.0"
  }
 },
 "nbformat": 4,
 "nbformat_minor": 5
}
